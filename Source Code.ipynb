{
  "nbformat": 4,
  "nbformat_minor": 0,
  "metadata": {
    "colab": {
      "name": "FDS.ipynb",
      "provenance": [],
      "collapsed_sections": [],
      "toc_visible": true
    },
    "kernelspec": {
      "name": "python3",
      "display_name": "Python 3"
    },
    "language_info": {
      "name": "python"
    }
  },
  "cells": [
    {
      "cell_type": "code",
      "metadata": {
        "colab": {
          "base_uri": "https://localhost:8080/"
        },
        "id": "hrsG9eE51yLO",
        "outputId": "415a9046-e7c9-4260-af98-b86a735d578b"
      },
      "source": [
        "!pip install tensorflow\n",
        "!pip install keras\n",
        "!pip install scikit-learn"
      ],
      "execution_count": null,
      "outputs": [
        {
          "output_type": "stream",
          "name": "stdout",
          "text": [
            "Requirement already satisfied: tensorflow in /usr/local/lib/python3.7/dist-packages (2.7.0)\n",
            "Requirement already satisfied: tensorflow-io-gcs-filesystem>=0.21.0 in /usr/local/lib/python3.7/dist-packages (from tensorflow) (0.22.0)\n",
            "Requirement already satisfied: libclang>=9.0.1 in /usr/local/lib/python3.7/dist-packages (from tensorflow) (12.0.0)\n",
            "Requirement already satisfied: six>=1.12.0 in /usr/local/lib/python3.7/dist-packages (from tensorflow) (1.15.0)\n",
            "Requirement already satisfied: flatbuffers<3.0,>=1.12 in /usr/local/lib/python3.7/dist-packages (from tensorflow) (2.0)\n",
            "Requirement already satisfied: typing-extensions>=3.6.6 in /usr/local/lib/python3.7/dist-packages (from tensorflow) (3.10.0.2)\n",
            "Requirement already satisfied: google-pasta>=0.1.1 in /usr/local/lib/python3.7/dist-packages (from tensorflow) (0.2.0)\n",
            "Requirement already satisfied: grpcio<2.0,>=1.24.3 in /usr/local/lib/python3.7/dist-packages (from tensorflow) (1.42.0)\n",
            "Requirement already satisfied: wheel<1.0,>=0.32.0 in /usr/local/lib/python3.7/dist-packages (from tensorflow) (0.37.0)\n",
            "Requirement already satisfied: absl-py>=0.4.0 in /usr/local/lib/python3.7/dist-packages (from tensorflow) (0.12.0)\n",
            "Requirement already satisfied: protobuf>=3.9.2 in /usr/local/lib/python3.7/dist-packages (from tensorflow) (3.17.3)\n",
            "Requirement already satisfied: wrapt>=1.11.0 in /usr/local/lib/python3.7/dist-packages (from tensorflow) (1.13.3)\n",
            "Requirement already satisfied: h5py>=2.9.0 in /usr/local/lib/python3.7/dist-packages (from tensorflow) (3.1.0)\n",
            "Requirement already satisfied: numpy>=1.14.5 in /usr/local/lib/python3.7/dist-packages (from tensorflow) (1.19.5)\n",
            "Requirement already satisfied: astunparse>=1.6.0 in /usr/local/lib/python3.7/dist-packages (from tensorflow) (1.6.3)\n",
            "Requirement already satisfied: tensorflow-estimator<2.8,~=2.7.0rc0 in /usr/local/lib/python3.7/dist-packages (from tensorflow) (2.7.0)\n",
            "Requirement already satisfied: keras<2.8,>=2.7.0rc0 in /usr/local/lib/python3.7/dist-packages (from tensorflow) (2.7.0)\n",
            "Requirement already satisfied: opt-einsum>=2.3.2 in /usr/local/lib/python3.7/dist-packages (from tensorflow) (3.3.0)\n",
            "Requirement already satisfied: gast<0.5.0,>=0.2.1 in /usr/local/lib/python3.7/dist-packages (from tensorflow) (0.4.0)\n",
            "Requirement already satisfied: keras-preprocessing>=1.1.1 in /usr/local/lib/python3.7/dist-packages (from tensorflow) (1.1.2)\n",
            "Requirement already satisfied: tensorboard~=2.6 in /usr/local/lib/python3.7/dist-packages (from tensorflow) (2.7.0)\n",
            "Requirement already satisfied: termcolor>=1.1.0 in /usr/local/lib/python3.7/dist-packages (from tensorflow) (1.1.0)\n",
            "Requirement already satisfied: cached-property in /usr/local/lib/python3.7/dist-packages (from h5py>=2.9.0->tensorflow) (1.5.2)\n",
            "Requirement already satisfied: tensorboard-data-server<0.7.0,>=0.6.0 in /usr/local/lib/python3.7/dist-packages (from tensorboard~=2.6->tensorflow) (0.6.1)\n",
            "Requirement already satisfied: google-auth-oauthlib<0.5,>=0.4.1 in /usr/local/lib/python3.7/dist-packages (from tensorboard~=2.6->tensorflow) (0.4.6)\n",
            "Requirement already satisfied: setuptools>=41.0.0 in /usr/local/lib/python3.7/dist-packages (from tensorboard~=2.6->tensorflow) (57.4.0)\n",
            "Requirement already satisfied: tensorboard-plugin-wit>=1.6.0 in /usr/local/lib/python3.7/dist-packages (from tensorboard~=2.6->tensorflow) (1.8.0)\n",
            "Requirement already satisfied: werkzeug>=0.11.15 in /usr/local/lib/python3.7/dist-packages (from tensorboard~=2.6->tensorflow) (1.0.1)\n",
            "Requirement already satisfied: requests<3,>=2.21.0 in /usr/local/lib/python3.7/dist-packages (from tensorboard~=2.6->tensorflow) (2.23.0)\n",
            "Requirement already satisfied: google-auth<3,>=1.6.3 in /usr/local/lib/python3.7/dist-packages (from tensorboard~=2.6->tensorflow) (1.35.0)\n",
            "Requirement already satisfied: markdown>=2.6.8 in /usr/local/lib/python3.7/dist-packages (from tensorboard~=2.6->tensorflow) (3.3.6)\n",
            "Requirement already satisfied: cachetools<5.0,>=2.0.0 in /usr/local/lib/python3.7/dist-packages (from google-auth<3,>=1.6.3->tensorboard~=2.6->tensorflow) (4.2.4)\n",
            "Requirement already satisfied: pyasn1-modules>=0.2.1 in /usr/local/lib/python3.7/dist-packages (from google-auth<3,>=1.6.3->tensorboard~=2.6->tensorflow) (0.2.8)\n",
            "Requirement already satisfied: rsa<5,>=3.1.4 in /usr/local/lib/python3.7/dist-packages (from google-auth<3,>=1.6.3->tensorboard~=2.6->tensorflow) (4.8)\n",
            "Requirement already satisfied: requests-oauthlib>=0.7.0 in /usr/local/lib/python3.7/dist-packages (from google-auth-oauthlib<0.5,>=0.4.1->tensorboard~=2.6->tensorflow) (1.3.0)\n",
            "Requirement already satisfied: importlib-metadata>=4.4 in /usr/local/lib/python3.7/dist-packages (from markdown>=2.6.8->tensorboard~=2.6->tensorflow) (4.8.2)\n",
            "Requirement already satisfied: zipp>=0.5 in /usr/local/lib/python3.7/dist-packages (from importlib-metadata>=4.4->markdown>=2.6.8->tensorboard~=2.6->tensorflow) (3.6.0)\n",
            "Requirement already satisfied: pyasn1<0.5.0,>=0.4.6 in /usr/local/lib/python3.7/dist-packages (from pyasn1-modules>=0.2.1->google-auth<3,>=1.6.3->tensorboard~=2.6->tensorflow) (0.4.8)\n",
            "Requirement already satisfied: certifi>=2017.4.17 in /usr/local/lib/python3.7/dist-packages (from requests<3,>=2.21.0->tensorboard~=2.6->tensorflow) (2021.10.8)\n",
            "Requirement already satisfied: urllib3!=1.25.0,!=1.25.1,<1.26,>=1.21.1 in /usr/local/lib/python3.7/dist-packages (from requests<3,>=2.21.0->tensorboard~=2.6->tensorflow) (1.24.3)\n",
            "Requirement already satisfied: chardet<4,>=3.0.2 in /usr/local/lib/python3.7/dist-packages (from requests<3,>=2.21.0->tensorboard~=2.6->tensorflow) (3.0.4)\n",
            "Requirement already satisfied: idna<3,>=2.5 in /usr/local/lib/python3.7/dist-packages (from requests<3,>=2.21.0->tensorboard~=2.6->tensorflow) (2.10)\n",
            "Requirement already satisfied: oauthlib>=3.0.0 in /usr/local/lib/python3.7/dist-packages (from requests-oauthlib>=0.7.0->google-auth-oauthlib<0.5,>=0.4.1->tensorboard~=2.6->tensorflow) (3.1.1)\n",
            "Requirement already satisfied: keras in /usr/local/lib/python3.7/dist-packages (2.7.0)\n",
            "Requirement already satisfied: scikit-learn in /usr/local/lib/python3.7/dist-packages (1.0.1)\n",
            "Requirement already satisfied: joblib>=0.11 in /usr/local/lib/python3.7/dist-packages (from scikit-learn) (1.1.0)\n",
            "Requirement already satisfied: threadpoolctl>=2.0.0 in /usr/local/lib/python3.7/dist-packages (from scikit-learn) (3.0.0)\n",
            "Requirement already satisfied: scipy>=1.1.0 in /usr/local/lib/python3.7/dist-packages (from scikit-learn) (1.4.1)\n",
            "Requirement already satisfied: numpy>=1.14.6 in /usr/local/lib/python3.7/dist-packages (from scikit-learn) (1.19.5)\n"
          ]
        }
      ]
    },
    {
      "cell_type": "code",
      "metadata": {
        "colab": {
          "base_uri": "https://localhost:8080/"
        },
        "id": "OuxAc_mP2NyO",
        "outputId": "286941d9-12a7-4acf-8e59-0a0f41c4fd18"
      },
      "source": [
        "!pip install keras.utils\n"
      ],
      "execution_count": null,
      "outputs": [
        {
          "output_type": "stream",
          "name": "stdout",
          "text": [
            "Collecting keras.utils\n",
            "  Downloading keras-utils-1.0.13.tar.gz (2.4 kB)\n",
            "Requirement already satisfied: Keras>=2.1.5 in /usr/local/lib/python3.7/dist-packages (from keras.utils) (2.7.0)\n",
            "Building wheels for collected packages: keras.utils\n",
            "  Building wheel for keras.utils (setup.py) ... \u001b[?25l\u001b[?25hdone\n",
            "  Created wheel for keras.utils: filename=keras_utils-1.0.13-py3-none-any.whl size=2656 sha256=22fe74e428d6acae407144f92f883fef059df2d27b184dac0b8b2f6f56300232\n",
            "  Stored in directory: /root/.cache/pip/wheels/d0/dd/3b/493952a5240d486a83805d65360dedadbadeae71d25e2c877f\n",
            "Successfully built keras.utils\n",
            "Installing collected packages: keras.utils\n",
            "Successfully installed keras.utils-1.0.13\n",
            "Reading package lists... Done\n",
            "Building dependency tree       \n",
            "Reading state information... Done\n",
            "E: Unable to locate package keras.utils\n",
            "E: Couldn't find any package by glob 'keras.utils'\n",
            "E: Couldn't find any package by regex 'keras.utils'\n"
          ]
        }
      ]
    },
    {
      "cell_type": "code",
      "metadata": {
        "id": "br7yiBho2iqc"
      },
      "source": [
        "import os\n",
        "import numpy as np\n",
        "import pandas as pd\n",
        "import matplotlib.pyplot as plt\n",
        "from PIL import Image\n",
        "import tensorflow as tf\n",
        "from tensorflow.keras.utils import to_categorical\n",
        "from keras.layers import Conv2D, Dense, Flatten, MaxPool2D, Dropout"
      ],
      "execution_count": null,
      "outputs": []
    },
    {
      "cell_type": "code",
      "metadata": {
        "id": "c97YtA2V2peJ"
      },
      "source": [
        "! pip install kaggle"
      ],
      "execution_count": null,
      "outputs": []
    },
    {
      "cell_type": "code",
      "metadata": {
        "id": "B1sMhT__2vzx"
      },
      "source": [
        "! mkdir ~/.kaggle"
      ],
      "execution_count": null,
      "outputs": []
    },
    {
      "cell_type": "code",
      "metadata": {
        "id": "WS5Rfemz2xzg"
      },
      "source": [
        "! cp kaggle.json ~/.kaggle/"
      ],
      "execution_count": null,
      "outputs": []
    },
    {
      "cell_type": "code",
      "metadata": {
        "id": "sUGOBaIr25_4"
      },
      "source": [
        "! chmod 600 ~/.kaggle/kaggle.json"
      ],
      "execution_count": null,
      "outputs": []
    },
    {
      "cell_type": "code",
      "metadata": {
        "id": "Xxm_n5Gu27tr"
      },
      "source": [
        "! kaggle datasets download meowmeowmeowmeowmeow/gtsrb-german-traffic-sign"
      ],
      "execution_count": null,
      "outputs": []
    },
    {
      "cell_type": "code",
      "metadata": {
        "id": "TTfsbhyn3ILY"
      },
      "source": [
        "! unzip gtsrb-german-traffic-sign"
      ],
      "execution_count": null,
      "outputs": []
    },
    {
      "cell_type": "code",
      "metadata": {
        "colab": {
          "base_uri": "https://localhost:8080/"
        },
        "id": "pC4ADgLK3hdl",
        "outputId": "0d633a37-7ce0-4a8b-c941-8db1f427ba34"
      },
      "source": [
        "imgs_path = \"/content/Train\"\n",
        "data = []\n",
        "labels = []\n",
        "classes = 43\n",
        "for i in range(classes):\n",
        "    img_path = os.path.join(imgs_path, str(i)) #0-42\n",
        "    for img in os.listdir(img_path):\n",
        "        im = Image.open(img_path + '/' + img)\n",
        "        im = im.resize((30,30))\n",
        "        im = np.array(im)\n",
        "        data.append(im)\n",
        "        labels.append(i)\n",
        "data = np.array(data)\n",
        "labels = np.array(labels)\n",
        "print(\"success\")"
      ],
      "execution_count": null,
      "outputs": [
        {
          "output_type": "stream",
          "name": "stdout",
          "text": [
            "success\n"
          ]
        }
      ]
    },
    {
      "cell_type": "code",
      "metadata": {
        "colab": {
          "base_uri": "https://localhost:8080/",
          "height": 266
        },
        "id": "kW4bUCAZ3pve",
        "outputId": "3f13629c-7155-4701-da26-e5dcc764fe1e"
      },
      "source": [
        "path = \"/content/Train/0/00000_00004_00029.png\"\n",
        "img = Image.open(path)\n",
        "img = img.resize((30, 30))\n",
        "sr = np.array(img) \n",
        "plt.imshow(img)\n",
        "plt.show()"
      ],
      "execution_count": null,
      "outputs": [
        {
          "output_type": "display_data",
          "data": {
            "image/png": "[encoded data removed]",
            "text/plain": [
              "<Figure size 432x288 with 1 Axes>"
            ]
          },
          "metadata": {
            "needs_background": "light"
          }
        }
      ]
    },
    {
      "cell_type": "code",
      "metadata": {
        "colab": {
          "base_uri": "https://localhost:8080/"
        },
        "id": "HCYoaxIq3vWD",
        "outputId": "ed9467ee-2b99-4267-b5c0-66421d51cb3f"
      },
      "source": [
        "from sklearn.model_selection import train_test_split\n",
        "x_train, x_test, y_train, y_test = train_test_split(data, labels, test_size=0.2, random_state=42)\n",
        "print(\"training shape: \",x_train.shape, y_train.shape)\n",
        "print(\"testing shape: \",x_test.shape, y_test.shape)\n",
        "y_train = to_categorical(y_train, 43)\n",
        "y_test = to_categorical(y_test, 43)"
      ],
      "execution_count": null,
      "outputs": [
        {
          "output_type": "stream",
          "name": "stdout",
          "text": [
            "training shape:  (31367, 30, 30, 3) (31367,)\n",
            "testing shape:  (7842, 30, 30, 3) (7842,)\n"
          ]
        }
      ]
    },
    {
      "cell_type": "code",
      "metadata": {
        "colab": {
          "base_uri": "https://localhost:8080/"
        },
        "id": "DnCLpTU_339m",
        "outputId": "81c6caae-741b-43ce-cbda-bd27a205cfc5"
      },
      "source": [
        "!pip install Sequential"
      ],
      "execution_count": null,
      "outputs": [
        {
          "output_type": "stream",
          "name": "stdout",
          "text": [
            "Collecting Sequential\n",
            "  Downloading sequential-1.0.0.tar.gz (2.3 kB)\n",
            "Building wheels for collected packages: Sequential\n",
            "  Building wheel for Sequential (setup.py) ... \u001b[?25l\u001b[?25hdone\n",
            "  Created wheel for Sequential: filename=sequential-1.0.0-py3-none-any.whl size=2880 sha256=59f352338c799ee9ea56d273d542b024074cbaac6f8b46a2854b4c49d939fe82\n",
            "  Stored in directory: /root/.cache/pip/wheels/36/1a/15/0286e549c5261b90879e5e7baa6ce8544d8c32db1d61b62e0a\n",
            "Successfully built Sequential\n",
            "Installing collected packages: Sequential\n",
            "Successfully installed Sequential-1.0.0\n"
          ]
        }
      ]
    },
    {
      "cell_type": "code",
      "metadata": {
        "id": "xChqBoLY3633"
      },
      "source": [
        "from keras.models import Sequential"
      ],
      "execution_count": null,
      "outputs": []
    },
    {
      "cell_type": "code",
      "metadata": {
        "id": "KkTJk71S3-2q"
      },
      "source": [
        "model = Sequential()\n",
        "model.add(Conv2D(filters=32, kernel_size=(5,5), activation=\"relu\", input_shape=x_train.shape[1:]))\n",
        "model.add(Conv2D(filters=32, kernel_size=(5,5), activation=\"relu\"))\n",
        "model.add(MaxPool2D(pool_size=(2,2)))\n",
        "model.add(Dropout(rate=0.25))\n",
        "model.add(Conv2D(filters=64, kernel_size=(3,3), activation=\"relu\"))\n",
        "model.add(Conv2D(filters=64, kernel_size=(3,3), activation=\"relu\"))\n",
        "model.add(MaxPool2D(pool_size=(2,2)))\n",
        "model.add(Dropout(rate=0.25))\n",
        "model.add(Flatten())\n",
        "model.add(Dense(256, activation=\"relu\"))\n",
        "model.add(Dropout(rate=0.5))\n",
        "model.add(Dense(43, activation=\"softmax\"))"
      ],
      "execution_count": null,
      "outputs": []
    },
    {
      "cell_type": "code",
      "metadata": {
        "id": "QX3rWH-Z4Dka"
      },
      "source": [
        "model.compile(loss=\"categorical_crossentropy\", optimizer=\"adam\", metrics=[\"accuracy\"])"
      ],
      "execution_count": null,
      "outputs": []
    },
    {
      "cell_type": "code",
      "metadata": {
        "colab": {
          "base_uri": "https://localhost:8080/"
        },
        "id": "Sd3mJ-QX4HhX",
        "outputId": "530690dd-4fd2-412b-cb71-8f5d4cbf8e70"
      },
      "source": [
        "epochs = 15\n",
        "history = model.fit(x_train, y_train, epochs=epochs, batch_size=64, validation_data=(x_test, y_test))"
      ],
      "execution_count": null,
      "outputs": [
        {
          "output_type": "stream",
          "name": "stdout",
          "text": [
            "Epoch 1/15\n",
            "491/491 [==============================] - 124s 250ms/step - loss: 2.3803 - accuracy: 0.3927 - val_loss: 1.0559 - val_accuracy: 0.6998\n",
            "Epoch 2/15\n",
            "491/491 [==============================] - 123s 251ms/step - loss: 0.9935 - accuracy: 0.7043 - val_loss: 0.4392 - val_accuracy: 0.8786\n",
            "Epoch 3/15\n",
            "491/491 [==============================] - 123s 251ms/step - loss: 0.6476 - accuracy: 0.8030 - val_loss: 0.2621 - val_accuracy: 0.9294\n",
            "Epoch 4/15\n",
            "491/491 [==============================] - 123s 250ms/step - loss: 0.4491 - accuracy: 0.8628 - val_loss: 0.1846 - val_accuracy: 0.9450\n",
            "Epoch 5/15\n",
            "491/491 [==============================] - 123s 250ms/step - loss: 0.3543 - accuracy: 0.8939 - val_loss: 0.1273 - val_accuracy: 0.9630\n",
            "Epoch 6/15\n",
            "491/491 [==============================] - 122s 249ms/step - loss: 0.3112 - accuracy: 0.9071 - val_loss: 0.1072 - val_accuracy: 0.9702\n",
            "Epoch 7/15\n",
            "491/491 [==============================] - 123s 250ms/step - loss: 0.2478 - accuracy: 0.9242 - val_loss: 0.0794 - val_accuracy: 0.9797\n",
            "Epoch 8/15\n",
            "491/491 [==============================] - 122s 249ms/step - loss: 0.2446 - accuracy: 0.9276 - val_loss: 0.0733 - val_accuracy: 0.9796\n",
            "Epoch 9/15\n",
            "491/491 [==============================] - 122s 249ms/step - loss: 0.2179 - accuracy: 0.9347 - val_loss: 0.0736 - val_accuracy: 0.9811\n",
            "Epoch 10/15\n",
            "491/491 [==============================] - 123s 250ms/step - loss: 0.2030 - accuracy: 0.9399 - val_loss: 0.0590 - val_accuracy: 0.9836\n",
            "Epoch 11/15\n",
            "491/491 [==============================] - 122s 248ms/step - loss: 0.1967 - accuracy: 0.9427 - val_loss: 0.0528 - val_accuracy: 0.9864\n",
            "Epoch 12/15\n",
            "491/491 [==============================] - 122s 248ms/step - loss: 0.1890 - accuracy: 0.9440 - val_loss: 0.0517 - val_accuracy: 0.9860\n",
            "Epoch 13/15\n",
            "491/491 [==============================] - 122s 248ms/step - loss: 0.1813 - accuracy: 0.9468 - val_loss: 0.0496 - val_accuracy: 0.9890\n",
            "Epoch 14/15\n",
            "491/491 [==============================] - 122s 249ms/step - loss: 0.1833 - accuracy: 0.9468 - val_loss: 0.0680 - val_accuracy: 0.9839\n",
            "Epoch 15/15\n",
            "491/491 [==============================] - 122s 249ms/step - loss: 0.1793 - accuracy: 0.9480 - val_loss: 0.0804 - val_accuracy: 0.9774\n"
          ]
        }
      ]
    },
    {
      "cell_type": "code",
      "metadata": {
        "colab": {
          "base_uri": "https://localhost:8080/"
        },
        "id": "sCiMaB114OVR",
        "outputId": "d8f07dd4-d116-4b77-829b-061ba9ea1561"
      },
      "source": [
        "from sklearn.metrics import accuracy_score\n",
        "from pandas import read_csv\n",
        "test = pd.read_csv(\"/content/Test.csv\")\n",
        "test.head()\n",
        "test_labels = test['ClassId'].values\n",
        "test_img_path = \"/content\"\n",
        "test_imgs = test['Path'].values\n",
        "test_data = []\n",
        "test_labels = []\n",
        "for img in test_imgs:\n",
        "    im = Image.open(test_img_path + '/' + img)\n",
        "    im = im.resize((30,30))\n",
        "    im = np.array(im)\n",
        "    test_data.append(im)\n",
        "test_data = np.array(test_data)\n",
        "predictions = model.predict(test_data)\n",
        "p1 = np.argmax(predictions,axis=1)\n",
        "print(test_labels)"
      ],
      "execution_count": null,
      "outputs": [
        {
          "output_type": "stream",
          "name": "stdout",
          "text": [
            "[]\n"
          ]
        }
      ]
    },
    {
      "cell_type": "code",
      "metadata": {
        "colab": {
          "base_uri": "https://localhost:8080/",
          "height": 266
        },
        "id": "SupDgTTq8ndq",
        "outputId": "82a82733-013a-4eaa-b80f-194d59530b27"
      },
      "source": [
        "path = \"/content/Test/00000.png\"\n",
        "img = Image.open(path)\n",
        "img = img.resize((30, 30))\n",
        "sr = np.array(img) \n",
        "plt.imshow(img)\n",
        "plt.show()\n"
      ],
      "execution_count": null,
      "outputs": [
        {
          "output_type": "display_data",
          "data": {
            "image/png": "[encoded data removed]",
            "text/plain": [
              "<Figure size 432x288 with 1 Axes>"
            ]
          },
          "metadata": {
            "needs_background": "light"
          }
        }
      ]
    },
    {
      "cell_type": "code",
      "metadata": {
        "id": "a0k8Ccnk_mQs"
      },
      "source": [
        "model.save('traffic_classifier.h5')"
      ],
      "execution_count": null,
      "outputs": []
    },
    {
      "cell_type": "code",
      "metadata": {
        "colab": {
          "base_uri": "https://localhost:8080/"
        },
        "id": "MK-XQObaAQY8",
        "outputId": "032f3859-269f-4110-c177-a09cb81010ba"
      },
      "source": [
        "### CREATE VIRTUAL DISPLAY ###\n",
        "!apt-get install -y xvfb # Install X Virtual Frame Buffer\n",
        "import os\n",
        "os.system('Xvfb :1 -screen 0 1600x1200x16  &')    # create virtual display with size 1600x1200 and 16 bit color. Color can be changed to 24 or 8\n",
        "os.environ['DISPLAY']=':1.0'    # tell X clients to use our virtual DISPLAY :1.0."
      ],
      "execution_count": null,
      "outputs": [
        {
          "output_type": "stream",
          "name": "stdout",
          "text": [
            "Reading package lists... Done\n",
            "Building dependency tree       \n",
            "Reading state information... Done\n",
            "The following NEW packages will be installed:\n",
            "  xvfb\n",
            "0 upgraded, 1 newly installed, 0 to remove and 37 not upgraded.\n",
            "Need to get 784 kB of archives.\n",
            "After this operation, 2,270 kB of additional disk space will be used.\n",
            "Get:1 http://archive.ubuntu.com/ubuntu bionic-updates/universe amd64 xvfb amd64 2:1.19.6-1ubuntu4.9 [784 kB]\n",
            "Fetched 784 kB in 1s (1,061 kB/s)\n",
            "Selecting previously unselected package xvfb.\n",
            "(Reading database ... 155222 files and directories currently installed.)\n",
            "Preparing to unpack .../xvfb_2%3a1.19.6-1ubuntu4.9_amd64.deb ...\n",
            "Unpacking xvfb (2:1.19.6-1ubuntu4.9) ...\n",
            "Setting up xvfb (2:1.19.6-1ubuntu4.9) ...\n",
            "Processing triggers for man-db (2.8.3-2ubuntu0.1) ...\n"
          ]
        }
      ]
    },
    {
      "cell_type": "code",
      "metadata": {
        "id": "P4cvY1ZZAUkR"
      },
      "source": [
        "from tkinter import filedialog\n",
        "from tkinter import *\n",
        "import tkinter as tk\n",
        "from PIL import ImageTk, Image\n",
        "from keras.models import load_model\n",
        "import numpy as np\n",
        "#load the trained model to classify traffic signs\n",
        "model = load_model('traffic_classifier.h5')\n",
        "#dictionary to label all traffic signs class.\n",
        "classes = { 1:'Speed limit (20km/h)',\n",
        "            2:'Speed limit (30km/h)',\n",
        "            3:'Speed limit (50km/h)',\n",
        "            4:'Speed limit (60km/h)',\n",
        "            5:'Speed limit (70km/h)',\n",
        "            6:'Speed limit (80km/h)',\n",
        "            7:'End of speed limit (80km/h)',\n",
        "            8:'Speed limit (100km/h)',\n",
        "            9:'Speed limit (120km/h)',\n",
        "            10:'No passing',\n",
        "            11:'No passing veh over 3.5 tons',\n",
        "            12:'Right-of-way at intersection',\n",
        "            13:'Priority road',\n",
        "            14:'Yield',\n",
        "            15:'Stop',\n",
        "            16:'No vehicles',\n",
        "            17:'Veh > 3.5 tons prohibited',\n",
        "            18:'No entry',\n",
        "            19:'General caution',\n",
        "            20:'Dangerous curve left',\n",
        "            21:'Dangerous curve right',\n",
        "            22:'Double curve',\n",
        "            23:'Bumpy road',\n",
        "            24:'Slippery road',\n",
        "            25:'Road narrows on the right',\n",
        "            26:'Road work',\n",
        "            27:'Traffic signals',\n",
        "            28:'Pedestrians',\n",
        "            29:'Children crossing',\n",
        "            30:'Bicycles crossing',\n",
        "            31:'Beware of ice/snow',\n",
        "            32:'Wild animals crossing',\n",
        "            33:'End speed + passing limits',\n",
        "            34:'Turn right ahead',\n",
        "            35:'Turn left ahead',\n",
        "            36:'Ahead only',\n",
        "            37:'Go straight or right',\n",
        "            38:'Go straight or left',\n",
        "            39:'Keep right',\n",
        "            40:'Keep left',\n",
        "            41:'Roundabout mandatory',\n",
        "            42:'End of no passing',\n",
        "            43:'End no passing veh > 3.5 tons' }\n",
        "#initialize GUI\n",
        "top=tk.Tk()\n",
        "top.geometry('800x600')\n",
        "top.title('Traffic sign classification')\n",
        "top.configure(background='#CDCDCD')\n",
        "label=Label(top,background='#CDCDCD', font=('arial',15,'bold'))\n",
        "sign_image = Label(top)\n",
        "def classify(file_path):\n",
        "    global label_packed\n",
        "    image = Image.open(file_path)\n",
        "    image = image.resize((30,30))\n",
        "    image = numpy.expand_dims(image, axis=0)\n",
        "    image = numpy.array(image)\n",
        "    pred = model.predict_classes([image])[0]\n",
        "    sign = classes[pred+1]\n",
        "    print(sign)\n",
        "    label.configure(foreground='#011638', text=sign)\n",
        "def show_classify_button(file_path):\n",
        "    classify_b=Button(top,text=\"Classify Image\",command=lambda: classify(file_path),padx=10,pady=5)\n",
        "    classify_b.configure(background='#364156', foreground='white',font=('arial',10,'bold'))\n",
        "    classify_b.place(relx=0.79,rely=0.46)\n",
        "def upload_image():\n",
        "    try:\n",
        "        file_path=filedialog.askopenfilename()\n",
        "        uploaded=Image.open(file_path)\n",
        "        uploaded.thumbnail(((top.winfo_width()/2.25),(top.winfo_height()/2.25)))\n",
        "        im=ImageTk.PhotoImage(uploaded)\n",
        "        sign_image.configure(image=im)\n",
        "        sign_image.image=im\n",
        "        label.configure(text='')\n",
        "        show_classify_button(file_path)\n",
        "    except:\n",
        "        pass\n",
        "upload=Button(top,text=\"Upload an image\",command=upload_image,padx=10,pady=5)\n",
        "upload.configure(background='#364156', foreground='white',font=('arial',10,'bold'))\n",
        "upload.pack(side=BOTTOM,pady=50)\n",
        "sign_image.pack(side=BOTTOM,expand=True)\n",
        "label.pack(side=BOTTOM,expand=True)\n",
        "heading = Label(top, text=\"Know Your Traffic Sign\",pady=20, font=('arial',20,'bold'))\n",
        "heading.configure(background='#CDCDCD',foreground='#364156')\n",
        "heading.pack()\n",
        "top.mainloop()"
      ],
      "execution_count": null,
      "outputs": []
    }
  ]
}